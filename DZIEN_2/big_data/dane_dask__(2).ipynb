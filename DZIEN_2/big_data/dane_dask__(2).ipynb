{
 "cells":[
  {
   "cell_type":"code",
   "source":[
    "!pip install dask[complete]"
   ],
   "execution_count":1,
   "outputs":[
    {
     "name":"stdout",
     "text":[
      "Collecting dask[complete]\r\n",
      "  Downloading dask-2025.4.1-py3-none-any.whl.metadata (3.8 kB)\r\n",
      "Requirement already satisfied: click>=8.1 in \/opt\/python\/envs\/default_3_11\/lib\/python3.11\/site-packages (from dask[complete]) (8.1.8)\r\n",
      "Collecting cloudpickle>=3.0.0 (from dask[complete])\r\n",
      "  Downloading cloudpickle-3.1.1-py3-none-any.whl.metadata (7.1 kB)\r\n",
      "Requirement already satisfied: fsspec>=2021.09.0 in \/opt\/python\/envs\/default_3_11\/lib\/python3.11\/site-packages (from dask[complete]) (2025.3.2)\r\n",
      "Requirement already satisfied: packaging>=20.0 in \/opt\/python\/envs\/default_3_11\/lib\/python3.11\/site-packages (from dask[complete]) (25.0)\r\n",
      "Collecting partd>=1.4.0 (from dask[complete])\r\n",
      "  Downloading partd-1.4.2-py3-none-any.whl.metadata (4.6 kB)\r\n",
      "Requirement already satisfied: pyyaml>=5.3.1 in \/opt\/python\/envs\/default_3_11\/lib\/python3.11\/site-packages (from dask[complete]) (6.0.2)\r\n",
      "Collecting toolz>=0.10.0 (from dask[complete])\r\n",
      "  Downloading toolz-1.0.0-py3-none-any.whl.metadata (5.1 kB)\r\n",
      "Collecting importlib_metadata>=4.13.0 (from dask[complete])\r\n",
      "  Downloading importlib_metadata-8.7.0-py3-none-any.whl.metadata (4.8 kB)\r\n",
      "Requirement already satisfied: pyarrow>=14.0.1 in \/opt\/python\/envs\/default_3_11\/lib\/python3.11\/site-packages (from dask[complete]) (19.0.1)\r\n",
      "Collecting lz4>=4.3.2 (from dask[complete])\r\n",
      "  Downloading lz4-4.4.4-cp311-cp311-manylinux_2_17_x86_64.manylinux2014_x86_64.whl.metadata (3.8 kB)\r\n",
      "Collecting zipp>=3.20 (from importlib_metadata>=4.13.0->dask[complete])\r\n",
      "  Downloading zipp-3.21.0-py3-none-any.whl.metadata (3.7 kB)\r\n",
      "Collecting locket (from partd>=1.4.0->dask[complete])\r\n",
      "  Downloading locket-1.0.0-py2.py3-none-any.whl.metadata (2.8 kB)\r\n",
      "Requirement already satisfied: numpy>=1.24 in \/opt\/python\/envs\/default_3_11\/lib\/python3.11\/site-packages (from dask[complete]) (1.26.4)\r\n",
      "Requirement already satisfied: pandas>=2.0 in \/opt\/python\/envs\/default_3_11\/lib\/python3.11\/site-packages (from dask[complete]) (2.2.3)\r\n",
      "Collecting distributed==2025.4.1 (from dask[complete])\r\n",
      "  Downloading distributed-2025.4.1-py3-none-any.whl.metadata (3.4 kB)\r\n",
      "Requirement already satisfied: bokeh>=3.1.0 in \/opt\/python\/envs\/default_3_11\/lib\/python3.11\/site-packages (from dask[complete]) (3.7.2)\r\n",
      "Requirement already satisfied: jinja2>=2.10.3 in \/opt\/python\/envs\/default_3_11\/lib\/python3.11\/site-packages (from dask[complete]) (3.1.6)\r\n",
      "Collecting msgpack>=1.0.2 (from distributed==2025.4.1->dask[complete])\r\n",
      "  Downloading msgpack-1.1.0-cp311-cp311-manylinux_2_17_x86_64.manylinux2014_x86_64.whl.metadata (8.4 kB)\r\n",
      "Requirement already satisfied: psutil>=5.8.0 in \/opt\/python\/envs\/default_3_11\/lib\/python3.11\/site-packages (from distributed==2025.4.1->dask[complete]) (7.0.0)\r\n",
      "Collecting sortedcontainers>=2.0.5 (from distributed==2025.4.1->dask[complete])\r\n",
      "  Downloading sortedcontainers-2.4.0-py2.py3-none-any.whl.metadata (10 kB)\r\n",
      "Collecting tblib>=1.6.0 (from distributed==2025.4.1->dask[complete])\r\n",
      "  Downloading tblib-3.1.0-py3-none-any.whl.metadata (25 kB)\r\n",
      "Requirement already satisfied: tornado>=6.2.0 in \/opt\/python\/envs\/default_3_11\/lib\/python3.11\/site-packages (from distributed==2025.4.1->dask[complete]) (6.4.2)\r\n",
      "Requirement already satisfied: urllib3>=1.26.5 in \/opt\/python\/envs\/default_3_11\/lib\/python3.11\/site-packages (from distributed==2025.4.1->dask[complete]) (2.4.0)\r\n",
      "Collecting zict>=3.0.0 (from distributed==2025.4.1->dask[complete])\r\n",
      "  Downloading zict-3.0.0-py2.py3-none-any.whl.metadata (899 bytes)\r\n",
      "Requirement already satisfied: contourpy>=1.2 in \/opt\/python\/envs\/default_3_11\/lib\/python3.11\/site-packages (from bokeh>=3.1.0->dask[complete]) (1.3.2)\r\n",
      "Requirement already satisfied: narwhals>=1.13 in \/opt\/python\/envs\/default_3_11\/lib\/python3.11\/site-packages (from bokeh>=3.1.0->dask[complete]) (1.36.0)\r\n",
      "Requirement already satisfied: pillow>=7.1.0 in \/opt\/python\/envs\/default_3_11\/lib\/python3.11\/site-packages (from bokeh>=3.1.0->dask[complete]) (11.2.1)\r\n",
      "Requirement already satisfied: xyzservices>=2021.09.1 in \/opt\/python\/envs\/default_3_11\/lib\/python3.11\/site-packages (from bokeh>=3.1.0->dask[complete]) (2025.4.0)\r\n",
      "Requirement already satisfied: MarkupSafe>=2.0 in \/opt\/python\/envs\/default_3_11\/lib\/python3.11\/site-packages (from jinja2>=2.10.3->dask[complete]) (3.0.2)\r\n",
      "Requirement already satisfied: python-dateutil>=2.8.2 in \/opt\/python\/envs\/default_3_11\/lib\/python3.11\/site-packages (from pandas>=2.0->dask[complete]) (2.9.0.post0)\r\n",
      "Requirement already satisfied: pytz>=2020.1 in \/opt\/python\/envs\/default_3_11\/lib\/python3.11\/site-packages (from pandas>=2.0->dask[complete]) (2025.2)\r\n",
      "Requirement already satisfied: tzdata>=2022.7 in \/opt\/python\/envs\/default_3_11\/lib\/python3.11\/site-packages (from pandas>=2.0->dask[complete]) (2025.2)\r\n",
      "Requirement already satisfied: six>=1.5 in \/opt\/python\/envs\/default_3_11\/lib\/python3.11\/site-packages (from python-dateutil>=2.8.2->pandas>=2.0->dask[complete]) (1.17.0)\r\n",
      "Downloading cloudpickle-3.1.1-py3-none-any.whl (20 kB)\r\n",
      "Downloading importlib_metadata-8.7.0-py3-none-any.whl (27 kB)\r\n",
      "Downloading lz4-4.4.4-cp311-cp311-manylinux_2_17_x86_64.manylinux2014_x86_64.whl (1.3 MB)\r\n",
      "\u001b[?25l   \u001b[90m━━━━━━━━━━━━━━━━━━━━━━━━━━━━━━━━━━━━━━━━\u001b[0m \u001b[32m0.0\/1.3 MB\u001b[0m \u001b[31m?\u001b[0m eta \u001b[36m-:--:--\u001b[0m\r\u001b[2K   \u001b[90m━━━━━━━━━━━━━━━━━━━━━━━━━━━━━━━━━━━━━━━━\u001b[0m \u001b[32m1.3\/1.3 MB\u001b[0m \u001b[31m74.6 MB\/s\u001b[0m eta \u001b[36m0:00:00\u001b[0m\r\n",
      "\u001b[?25hDownloading partd-1.4.2-py3-none-any.whl (18 kB)\r\n",
      "Downloading toolz-1.0.0-py3-none-any.whl (56 kB)\r\n",
      "Downloading dask-2025.4.1-py3-none-any.whl (1.5 MB)\r\n",
      "\u001b[?25l   \u001b[90m━━━━━━━━━━━━━━━━━━━━━━━━━━━━━━━━━━━━━━━━\u001b[0m \u001b[32m0.0\/1.5 MB\u001b[0m \u001b[31m?\u001b[0m eta \u001b[36m-:--:--\u001b[0m\r\u001b[2K   \u001b[90m━━━━━━━━━━━━━━━━━━━━━━━━━━━━━━━━━━━━━━━━\u001b[0m \u001b[32m1.5\/1.5 MB\u001b[0m \u001b[31m111.8 MB\/s\u001b[0m eta \u001b[36m0:00:00\u001b[0m\r\n",
      "\u001b[?25hDownloading distributed-2025.4.1-py3-none-any.whl (1.0 MB)\r\n",
      "\u001b[?25l   \u001b[90m━━━━━━━━━━━━━━━━━━━━━━━━━━━━━━━━━━━━━━━━\u001b[0m \u001b[32m0.0\/1.0 MB\u001b[0m \u001b[31m?\u001b[0m eta \u001b[36m-:--:--\u001b[0m\r\u001b[2K   \u001b[90m━━━━━━━━━━━━━━━━━━━━━━━━━━━━━━━━━━━━━━━━\u001b[0m \u001b[32m1.0\/1.0 MB\u001b[0m \u001b[31m80.8 MB\/s\u001b[0m eta \u001b[36m0:00:00\u001b[0m\r\n",
      "\u001b[?25hDownloading locket-1.0.0-py2.py3-none-any.whl (4.4 kB)\r\n",
      "Downloading zipp-3.21.0-py3-none-any.whl (9.6 kB)\r\n",
      "Downloading msgpack-1.1.0-cp311-cp311-manylinux_2_17_x86_64.manylinux2014_x86_64.whl (403 kB)\r\n",
      "Downloading sortedcontainers-2.4.0-py2.py3-none-any.whl (29 kB)\r\n",
      "Downloading tblib-3.1.0-py3-none-any.whl (12 kB)\r\n",
      "Downloading zict-3.0.0-py2.py3-none-any.whl (43 kB)\r\n",
      "Installing collected packages: sortedcontainers, zipp, zict, toolz, tblib, msgpack, lz4, locket, cloudpickle, partd, importlib_metadata, dask, distributed\r\n",
      "Successfully installed cloudpickle-3.1.1 dask-2025.4.1 distributed-2025.4.1 importlib_metadata-8.7.0 locket-1.0.0 lz4-4.4.4 msgpack-1.1.0 partd-1.4.2 sortedcontainers-2.4.0 tblib-3.1.0 toolz-1.0.0 zict-3.0.0 zipp-3.21.0\r\n"
     ],
     "output_type":"stream"
    }
   ],
   "metadata":{
    "datalore":{
     "node_id":"WkzozAhTffqrQa9p1TaRDe",
     "type":"CODE",
     "hide_input_from_viewers":true,
     "hide_output_from_viewers":true
    }
   }
  },
  {
   "cell_type":"code",
   "source":[
    "import pandas as pd\n",
    "import numpy as np\n",
    "\n",
    "n = 5_000_000\n",
    "\n",
    "df = pd.DataFrame({\n",
    "    \"id\":np.arange(n),\n",
    "    \"value\":np.random.normal(100,20,size=n),\n",
    "    \"category\":np.random.choice(['A','B','C'],size=n)\n",
    "})\n",
    "\n",
    "#zapis do pliku\n",
    "df.to_csv(\"big_data.csv\",index=False)"
   ],
   "execution_count":2,
   "outputs":[],
   "metadata":{
    "datalore":{
     "node_id":"St4sVJO9j2iSAMaNHRD01G",
     "type":"CODE",
     "hide_input_from_viewers":true,
     "hide_output_from_viewers":true
    }
   }
  },
  {
   "cell_type":"code",
   "source":[
    "#wczytanie danych z użyciem deskim\n",
    "import dask.dataframe as dd\n",
    "\n",
    "ddf = dd.read_csv(\"big_data.csv\")\n",
    "\n",
    "print(ddf.head(10))"
   ],
   "execution_count":3,
   "outputs":[
    {
     "name":"stdout",
     "text":[
      "   id       value category\n",
      "0   0  110.519433        B\n",
      "1   1  115.264530        B\n",
      "2   2   95.709197        C\n",
      "3   3  113.470625        C\n",
      "4   4   63.662117        B\n",
      "5   5   78.334256        A\n",
      "6   6   89.510007        A\n",
      "7   7   78.565246        B\n",
      "8   8   69.207758        B\n",
      "9   9   98.573735        B\n"
     ],
     "output_type":"stream"
    }
   ],
   "metadata":{
    "datalore":{
     "node_id":"XSQTMzeXXn0NzXEs2Pi4JN",
     "type":"CODE",
     "hide_input_from_viewers":true,
     "hide_output_from_viewers":true
    }
   }
  },
  {
   "cell_type":"code",
   "source":[
    "#proste operacje\n",
    "mean_val = ddf[\"value\"].mean()\n",
    "print(f\"Średnia (leniwa): {mean_val}\")\n",
    "\n",
    "print(f\"Średnia (obliczona): {mean_val.compute()}\")"
   ],
   "execution_count":5,
   "outputs":[
    {
     "name":"stdout",
     "text":[
      "Średnia (leniwa): <dask_expr.expr.Scalar: expr=ArrowStringConversion(frame=FromMapProjectable(1626709))['value'].mean(), dtype=float64>\n",
      "Średnia (obliczona): 100.00710789591383\n"
     ],
     "output_type":"stream"
    }
   ],
   "metadata":{
    "datalore":{
     "node_id":"ZpwjazI9BSo6RyKuuMi9cb",
     "type":"CODE",
     "hide_input_from_viewers":true,
     "hide_output_from_viewers":true
    }
   }
  },
  {
   "cell_type":"code",
   "source":[
    "grouped = ddf.groupby(\"category\")[\"value\"].mean()\n",
    "print(f\"Średnia per kategoria(leniwa): {grouped}\")\n",
    "print(f\"Średnia per kategoria(obliczona): {grouped.compute()}\")"
   ],
   "execution_count":7,
   "outputs":[
    {
     "name":"stdout",
     "text":[
      "Średnia per kategoria(leniwa): Dask Series Structure:\n",
      "npartitions=1\n",
      "    float64\n",
      "        ...\n",
      "Dask Name: getitem, 5 expressions\n",
      "Expr=((ArrowStringConversion(frame=FromMapProjectable(1626709))[['value', 'category']]).mean(observed=False, chunk_kwargs={'numeric_only': False}, aggregate_kwargs={'numeric_only': False}, _slice='value'))['value']\n",
      "Średnia per kategoria(obliczona): category\n",
      "A    100.006379\n",
      "B    100.014957\n",
      "C     99.999990\n",
      "Name: value, dtype: float64\n"
     ],
     "output_type":"stream"
    }
   ],
   "metadata":{
    "datalore":{
     "node_id":"pDbCn6H9RkRgacI0CmRMuk",
     "type":"CODE",
     "hide_input_from_viewers":true,
     "hide_output_from_viewers":true
    }
   }
  },
  {
   "cell_type":"code",
   "source":[
    "print(f\"Liczba partycji: {ddf.npartitions}\")\n",
    "print(f\"rozmiar danych (szacowany): {ddf.memory_usage(deep=True).compute()}\")"
   ],
   "execution_count":8,
   "outputs":[
    {
     "name":"stdout",
     "text":[
      "Liczba partycji: 2\n",
      "rozmiar danych (szacowany): Index            264\n",
      "id          40000000\n",
      "value       40000000\n",
      "category    45000000\n",
      "dtype: int64\n"
     ],
     "output_type":"stream"
    }
   ],
   "metadata":{
    "datalore":{
     "node_id":"Swxzf6zZX4TGT29AKvhDQZ",
     "type":"CODE",
     "hide_input_from_viewers":true,
     "hide_output_from_viewers":true
    }
   }
  }
 ],
 "metadata":{
  "kernelspec":{
   "display_name":"Python",
   "language":"python",
   "name":"python"
  },
  "datalore":{
   "computation_mode":"JUPYTER",
   "package_manager":"pip",
   "base_environment":"default_3_11",
   "python_version":"3.11",
   "packages":[],
   "report_row_ids":[],
   "report_tabs":[],
   "version":4
  }
 },
 "nbformat":4,
 "nbformat_minor":4
}