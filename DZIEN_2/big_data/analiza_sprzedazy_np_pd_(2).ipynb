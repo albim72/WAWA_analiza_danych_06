{
 "cells":[
  {
   "cell_type":"markdown",
   "source":[
    "# Start projektu: Numpy, Pandas"
   ],
   "attachments":{},
   "metadata":{
    "datalore":{
     "node_id":"i2IkJ1jnWuBIXhEmdQDEk7",
     "type":"MD",
     "hide_input_from_viewers":true,
     "hide_output_from_viewers":true
    }
   }
  },
  {
   "cell_type":"code",
   "source":[
    "import numpy as np\n",
    "import pandas as pd"
   ],
   "execution_count":1,
   "outputs":[],
   "metadata":{
    "datalore":{
     "node_id":"Gxt6We8DmTcXbm2nWJUj1t",
     "type":"CODE",
     "hide_input_from_viewers":true,
     "hide_output_from_viewers":true
    }
   }
  },
  {
   "cell_type":"code",
   "source":[
    "#tworzenie danych za pomocą numpy\n",
    "np.random.seed(42)\n",
    "num_rows = 1000\n",
    "\n",
    "data = {\n",
    "    \"OrderID\":np.arange(1,num_rows+1),\n",
    "    \"CustomerID\":np.random.randint(1000,2000,size=num_rows),\n",
    "    \"Amount\":np.round(np.random.normal(200,50,size=num_rows)),\n",
    "    \"Region\":np.random.choice([\"North\",\"South\",\"East\",\"West\"],size=num_rows),\n",
    "    \"Returned\":np.random.choice([True,False],size=num_rows,p=[0.1,0.9])\n",
    "}"
   ],
   "execution_count":5,
   "outputs":[],
   "metadata":{
    "datalore":{
     "node_id":"kjeQtCBXGSOTLfz8Tf4uFb",
     "type":"CODE",
     "hide_input_from_viewers":true,
     "hide_output_from_viewers":true
    }
   }
  },
  {
   "cell_type":"code",
   "source":[
    "#utworzenie DataFrame w Pandas\n",
    "df = pd.DataFrame(data)\n",
    "df.head(5)"
   ],
   "execution_count":6,
   "outputs":[
    {
     "data":{
      "text\/html":[
       "<div>\n",
       "<style scoped>\n",
       "    .dataframe tbody tr th:only-of-type {\n",
       "        vertical-align: middle;\n",
       "    }\n",
       "\n",
       "    .dataframe tbody tr th {\n",
       "        vertical-align: top;\n",
       "    }\n",
       "\n",
       "    .dataframe thead th {\n",
       "        text-align: right;\n",
       "    }\n",
       "<\/style>\n",
       "<table border=\"1\" class=\"dataframe\">\n",
       "  <thead>\n",
       "    <tr style=\"text-align: right;\">\n",
       "      <th><\/th>\n",
       "      <th>OrderID<\/th>\n",
       "      <th>CustomerID<\/th>\n",
       "      <th>Amount<\/th>\n",
       "      <th>Region<\/th>\n",
       "      <th>Returned<\/th>\n",
       "    <\/tr>\n",
       "  <\/thead>\n",
       "  <tbody>\n",
       "    <tr>\n",
       "      <th>0<\/th>\n",
       "      <td>1<\/td>\n",
       "      <td>1102<\/td>\n",
       "      <td>259.0<\/td>\n",
       "      <td>North<\/td>\n",
       "      <td>True<\/td>\n",
       "    <\/tr>\n",
       "    <tr>\n",
       "      <th>1<\/th>\n",
       "      <td>2<\/td>\n",
       "      <td>1435<\/td>\n",
       "      <td>177.0<\/td>\n",
       "      <td>West<\/td>\n",
       "      <td>True<\/td>\n",
       "    <\/tr>\n",
       "    <tr>\n",
       "      <th>2<\/th>\n",
       "      <td>3<\/td>\n",
       "      <td>1860<\/td>\n",
       "      <td>114.0<\/td>\n",
       "      <td>North<\/td>\n",
       "      <td>False<\/td>\n",
       "    <\/tr>\n",
       "    <tr>\n",
       "      <th>3<\/th>\n",
       "      <td>4<\/td>\n",
       "      <td>1270<\/td>\n",
       "      <td>268.0<\/td>\n",
       "      <td>East<\/td>\n",
       "      <td>True<\/td>\n",
       "    <\/tr>\n",
       "    <tr>\n",
       "      <th>4<\/th>\n",
       "      <td>5<\/td>\n",
       "      <td>1106<\/td>\n",
       "      <td>194.0<\/td>\n",
       "      <td>East<\/td>\n",
       "      <td>False<\/td>\n",
       "    <\/tr>\n",
       "  <\/tbody>\n",
       "<\/table>\n",
       "<\/div>"
      ]
     },
     "metadata":{},
     "output_type":"display_data"
    }
   ],
   "metadata":{
    "datalore":{
     "node_id":"TRLHayxqJOAsFdALwsDvq6",
     "type":"CODE",
     "hide_input_from_viewers":true,
     "hide_output_from_viewers":true
    }
   }
  },
  {
   "cell_type":"code",
   "source":[
    "print(f\"rozmiar danych: {df.shape}\")"
   ],
   "execution_count":7,
   "outputs":[
    {
     "name":"stdout",
     "text":[
      "rozmiar danych: (1000, 5)\n"
     ],
     "output_type":"stream"
    }
   ],
   "metadata":{
    "datalore":{
     "node_id":"bEj27mrFb9MCwm0FVfAdT5",
     "type":"CODE",
     "hide_input_from_viewers":true,
     "hide_output_from_viewers":true
    }
   }
  },
  {
   "cell_type":"markdown",
   "source":[
    "# Prosta analiza danych"
   ],
   "attachments":{},
   "metadata":{
    "datalore":{
     "node_id":"kSLLMl9Ow7l3IboEk7PiVo",
     "type":"MD",
     "hide_input_from_viewers":true,
     "hide_output_from_viewers":true
    }
   }
  },
  {
   "cell_type":"code",
   "source":[
    "print(f'\\nŚredni przychód: {df[\"Amount\"].mean()}')\n",
    "print(f'\\nLiczba zwrotów: {df[\"Returned\"].sum()}')"
   ],
   "execution_count":9,
   "outputs":[
    {
     "name":"stdout",
     "text":[
      "\n",
      "Średni przychód: 202.081\n",
      "\n",
      "Liczba zwrotów: 108\n"
     ],
     "output_type":"stream"
    }
   ],
   "metadata":{
    "datalore":{
     "node_id":"IB1Dauz49hbkilP6ftCQZg",
     "type":"CODE",
     "hide_input_from_viewers":true,
     "hide_output_from_viewers":true
    }
   }
  },
  {
   "cell_type":"code",
   "source":[
    "#grupowanie po regionie\n",
    "regions_stats = df.groupby(\"Region\")[\"Amount\"].agg([\"count\",\"mean\",\"sum\"])\n",
    "print(f\"\\nStatystyki wg regionu\\n {regions_stats}\")"
   ],
   "execution_count":10,
   "outputs":[
    {
     "name":"stdout",
     "text":[
      "\n",
      "Statystyki wg regionu\n",
      "         count        mean      sum\n",
      "Region                            \n",
      "East      238  203.004202  48315.0\n",
      "North     243  205.765432  50001.0\n",
      "South     244  200.040984  48810.0\n",
      "West      275  199.836364  54955.0\n"
     ],
     "output_type":"stream"
    }
   ],
   "metadata":{
    "datalore":{
     "node_id":"f3tIEzlzxT8obMQK0VBM2w",
     "type":"CODE",
     "hide_input_from_viewers":true,
     "hide_output_from_viewers":true
    }
   }
  },
  {
   "cell_type":"code",
   "source":[
    "#filtrowanie danych\n",
    "high_value = df[df[\"Amount\"]>300]\n",
    "print(f\"\\nTransakcje powyżej 300 zł: {high_value.shape[0]}\")"
   ],
   "execution_count":11,
   "outputs":[
    {
     "name":"stdout",
     "text":[
      "\n",
      "Transakcje powyżej 300 zł: 28\n"
     ],
     "output_type":"stream"
    }
   ],
   "metadata":{
    "datalore":{
     "node_id":"HlLzFt9zlnc5519yncsmfE",
     "type":"CODE",
     "hide_input_from_viewers":true,
     "hide_output_from_viewers":true
    }
   }
  },
  {
   "cell_type":"code",
   "source":[
    "#Histogram matplotlib\n",
    "import matplotlib.pyplot as plt\n",
    "df[\"Amount\"].hist(bins=30)\n",
    "plt.title(\"Rozkład kwot zamówień\")\n",
    "plt.xlabel(\"Kwota\")\n",
    "plt.ylabel(\"Liczba\")\n",
    "plt.show()"
   ],
   "execution_count":12,
   "outputs":[
    {
     "data":{
      "image\/png":"[encoded data removed]"
     },
     "metadata":{
      "image\/png":{}
     },
     "output_type":"display_data"
    }
   ],
   "metadata":{
    "datalore":{
     "node_id":"Dvl76IeGMAecRmVYmCR9Lu",
     "type":"CODE",
     "hide_input_from_viewers":true,
     "hide_output_from_viewers":true
    }
   }
  }
 ],
 "metadata":{
  "kernelspec":{
   "display_name":"Python",
   "language":"python",
   "name":"python"
  },
  "datalore":{
   "computation_mode":"JUPYTER",
   "package_manager":"pip",
   "base_environment":"default_3_11",
   "python_version":"3.11",
   "packages":[],
   "report_row_ids":[],
   "report_tabs":[],
   "version":4
  }
 },
 "nbformat":4,
 "nbformat_minor":4
}